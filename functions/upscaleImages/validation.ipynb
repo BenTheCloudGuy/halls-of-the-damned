{
 "cells": [
  {
   "cell_type": "markdown",
   "metadata": {},
   "source": [
    "# Validation Jupyter Notebook #\n",
    "\n",
    "Blah blah blah"
   ]
  },
  {
   "cell_type": "markdown",
   "metadata": {},
   "source": [
    "## Fetch Character Data ##\n",
    "\n",
    "Fetch Charcter Data from DnDBeyond into the VectorDB for reference by the LLM. This will also be used in fine-tuning the model for responses on the characters. This will be handled with custom instructions. \n",
    "\n",
    "> python3 fetch_character_data.py \"Ryvek Kyros\""
   ]
  },
  {
   "cell_type": "code",
   "execution_count": null,
   "metadata": {
    "vscode": {
     "languageId": "plaintext"
    }
   },
   "outputs": [],
   "source": [
    "import chromadb\n",
    "\n",
    "client = chromadb.HttpClient(host=\"localhost\", port=8005)\n",
    "\n",
    "collection = client.create_collection(\"temp\")\n",
    "\n",
    "collection.add(\n",
    "    documents=[\"This is document1\", \"This is document2\"],\n",
    "    metadatas=[{\"source\": \"notion\"}, {\"source\": \"google-docs\"}], # filter on these!\n",
    "    ids=[\"doc1\", \"doc2\"], # unique for each doc\n",
    "    embeddings = [[1.2, 2.1, ...], [1.2, 2.1, ...]]\n",
    ")\n",
    "\n",
    "results = collection.query(\n",
    "    query_texts=[\"This is a query document\"],\n",
    "    n_results=2,\n",
    "    # where={\"metadata_field\": \"is_equal_to_this\"}, # optional filter\n",
    "    # where_document={\"$contains\":\"search_string\"}  # optional filter\n",
    ")\n"
   ]
  }
 ],
 "metadata": {
  "kernelspec": {
   "display_name": "gpt4all-cli",
   "language": "python",
   "name": "python3"
  },
  "language_info": {
   "codemirror_mode": {
    "name": "ipython",
    "version": 3
   },
   "file_extension": ".py",
   "mimetype": "text/x-python",
   "name": "python",
   "nbconvert_exporter": "python",
   "pygments_lexer": "ipython3",
   "version": "3.12.7"
  }
 },
 "nbformat": 4,
 "nbformat_minor": 2
}
